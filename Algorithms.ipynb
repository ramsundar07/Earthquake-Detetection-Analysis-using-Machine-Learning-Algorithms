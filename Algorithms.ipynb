{
 "cells": [
  {
   "cell_type": "markdown",
   "id": "dccb4d53",
   "metadata": {},
   "source": [
    " #              Earthquake Detection Using Machine Learning Algorithm"
   ]
  },
  {
   "cell_type": "markdown",
   "id": "55af6d8e",
   "metadata": {},
   "source": [
    "# 1. Data PreProcessing"
   ]
  },
  {
   "cell_type": "code",
   "execution_count": 2,
   "id": "821db3dc",
   "metadata": {},
   "outputs": [],
   "source": [
    "# Importing modules\n",
    "\n",
    "import numpy as np\n",
    "import pandas as pd\n",
    "import matplotlib.pyplot as plt\n",
    "import datetime\n",
    "from sklearn.model_selection import train_test_split\n",
    "from sklearn import metrics\n",
    "import math\n",
    "import findspark\n",
    "findspark.init()\n",
    "import pyspark\n",
    "from pyspark.sql.functions import col,isnan, when, count\n",
    "from pyspark.sql import SparkSession \n",
    "from pyspark.sql.types import * \n",
    "from pyspark.sql.functions import *\n",
    "import joblib\n",
    "\n",
    "# Configure spark session\n",
    "\n",
    "spark = SparkSession\\\n",
    "    .builder\\\n",
    "    .master('local[2]')\\\n",
    "    .appName('quake_etl')\\\n",
    "    .config('spark.jars.package', 'org.mongodb.spark:mongo-spark-connector 2.12:2.4.1')\\\n",
    "    .getOrCreate()\n"
   ]
  },
  {
   "cell_type": "code",
   "execution_count": 3,
   "id": "e2ec22af",
   "metadata": {},
   "outputs": [
    {
     "data": {
      "text/plain": [
       "[Row(Date='01-02-1965', Time='13:44:18', Latitude='19.246', Longitude='145.616', Type='Earthquake', Depth='131.6', Depth Error=None, Depth Seismic Stations=None, Magnitude='6', Magnitude Type='MW', Magnitude Error=None, Magnitude Seismic Stations=None, Azimuthal Gap=None, Horizontal Distance=None, Horizontal Error=None, Root Mean Square=None, ID='ISCGEM860706', Source='ISCGEM', Location Source='ISCGEM', Magnitude Source='ISCGEM', Status='Automatic')]"
      ]
     },
     "execution_count": 3,
     "metadata": {},
     "output_type": "execute_result"
    }
   ],
   "source": [
    "#Reading the dataset\n",
    "data = spark.read.csv(\"files\\quake.csv\",header=\"True\")\n",
    "data.take(1)"
   ]
  },
  {
   "cell_type": "code",
   "execution_count": 4,
   "id": "da76c8c4",
   "metadata": {
    "scrolled": true
   },
   "outputs": [
    {
     "name": "stdout",
     "output_type": "stream",
     "text": [
      "+----------+--------+---------+----------+-----+---------+--------------+------------+\n",
      "|      Date|Latitude|Longitude|      Type|Depth|Magnitude|Magnitude Type|          ID|\n",
      "+----------+--------+---------+----------+-----+---------+--------------+------------+\n",
      "|01-02-1965|  19.246|  145.616|Earthquake|131.6|        6|            MW|ISCGEM860706|\n",
      "|01-04-1965|   1.863|  127.352|Earthquake|   80|      5.8|            MW|ISCGEM860737|\n",
      "|01-05-1965| -20.579| -173.972|Earthquake|   20|      6.2|            MW|ISCGEM860762|\n",
      "|01-08-1965| -59.076|  -23.557|Earthquake|   15|      5.8|            MW|ISCGEM860856|\n",
      "|01-09-1965|  11.938|  126.427|Earthquake|   15|      5.8|            MW|ISCGEM860890|\n",
      "+----------+--------+---------+----------+-----+---------+--------------+------------+\n",
      "only showing top 5 rows\n",
      "\n"
     ]
    }
   ],
   "source": [
    "#Dropping unwanted columns\n",
    "dropped_columns =['Depth Error', 'Time', 'Depth Seismic Stations', 'Magnitude Error', 'Magnitude Selamic Stations', 'Azimuthal Root Mean Square', 'Source', 'Location', 'Source', 'Magnitude Source', 'Status','Magnitude Seismic Stations','Azimuthal Gap','Horizontal Distance','Horizontal Error','Root Mean Square','Location Source']\n",
    "data=data.drop(\n",
    "    *dropped_columns)\n",
    "data.show(5)"
   ]
  },
  {
   "cell_type": "code",
   "execution_count": 5,
   "id": "063b1e5a",
   "metadata": {},
   "outputs": [
    {
     "name": "stdout",
     "output_type": "stream",
     "text": [
      "+----------+--------+---------+----------+-----+---------+--------------+------------+----+\n",
      "|      Date|Latitude|Longitude|      Type|Depth|Magnitude|Magnitude Type|          ID|Year|\n",
      "+----------+--------+---------+----------+-----+---------+--------------+------------+----+\n",
      "|01-02-1965|  19.246|  145.616|Earthquake|131.6|        6|            MW|ISCGEM860706|1965|\n",
      "|01-04-1965|   1.863|  127.352|Earthquake|   80|      5.8|            MW|ISCGEM860737|1965|\n",
      "|01-05-1965| -20.579| -173.972|Earthquake|   20|      6.2|            MW|ISCGEM860762|1965|\n",
      "|01-08-1965| -59.076|  -23.557|Earthquake|   15|      5.8|            MW|ISCGEM860856|1965|\n",
      "|01-09-1965|  11.938|  126.427|Earthquake|   15|      5.8|            MW|ISCGEM860890|1965|\n",
      "+----------+--------+---------+----------+-----+---------+--------------+------------+----+\n",
      "only showing top 5 rows\n",
      "\n"
     ]
    }
   ],
   "source": [
    "# Create a year field using Date attriute and add it to the dataframe \n",
    "data = data.withColumn('Year', year(to_timestamp('Date','dd-MM-yyyy')))\n",
    "\n",
    "data.show(5)"
   ]
  },
  {
   "cell_type": "code",
   "execution_count": 6,
   "id": "58faffc3",
   "metadata": {},
   "outputs": [],
   "source": [
    "#Changing datatype of each attribute\n",
    "data=data.withColumn('Latitude',data['Latitude'].cast(DoubleType()))\\\n",
    "    .withColumn('Longitude',data['Longitude'].cast(DoubleType()))\\\n",
    "    .withColumn('Depth',data['Depth'].cast(DoubleType()))\\\n",
    "    .withColumn('Magnitude',data['Magnitude'].cast(DoubleType()))\\\n",
    "    .withColumn('Year',data['Year'].cast(IntegerType()))\n"
   ]
  },
  {
   "cell_type": "code",
   "execution_count": 7,
   "id": "8746b56c",
   "metadata": {},
   "outputs": [
    {
     "name": "stdout",
     "output_type": "stream",
     "text": [
      "+----+--------+---------+----+-----+---------+--------------+---+-----+\n",
      "|Date|Latitude|Longitude|Type|Depth|Magnitude|Magnitude Type| ID| Year|\n",
      "+----+--------+---------+----+-----+---------+--------------+---+-----+\n",
      "|   0|       0|        0|   0|    0|        0|             3|  0|14209|\n",
      "+----+--------+---------+----+-----+---------+--------------+---+-----+\n",
      "\n"
     ]
    }
   ],
   "source": [
    "#Counting null values\n",
    "data.select([count(when(isnan(c) | col(c).isNull(), c)).alias(c) for c in data.columns]\n",
    "   ).show()"
   ]
  },
  {
   "cell_type": "code",
   "execution_count": 8,
   "id": "c0be15ff",
   "metadata": {},
   "outputs": [
    {
     "name": "stdout",
     "output_type": "stream",
     "text": [
      "Count of Null values in Magnitude Type : 0\n",
      "Count of Null values in Year : 0\n"
     ]
    }
   ],
   "source": [
    "#Handiling Missing data\n",
    "df=data.toPandas()\n",
    "df.interpolate(method ='linear', limit_direction ='forward', inplace=True)\n",
    "df=df.dropna()\n",
    "print(\"Count of Null values in Magnitude Type :\", df[['Magnitude Type']].isna().sum().sum())\n",
    "print(\"Count of Null values in Year :\", df[['Year']].isna().sum().sum())"
   ]
  },
  {
   "cell_type": "code",
   "execution_count": 9,
   "id": "c884af7a",
   "metadata": {},
   "outputs": [
    {
     "data": {
      "text/html": [
       "<div>\n",
       "<style scoped>\n",
       "    .dataframe tbody tr th:only-of-type {\n",
       "        vertical-align: middle;\n",
       "    }\n",
       "\n",
       "    .dataframe tbody tr th {\n",
       "        vertical-align: top;\n",
       "    }\n",
       "\n",
       "    .dataframe thead th {\n",
       "        text-align: right;\n",
       "    }\n",
       "</style>\n",
       "<table border=\"1\" class=\"dataframe\">\n",
       "  <thead>\n",
       "    <tr style=\"text-align: right;\">\n",
       "      <th></th>\n",
       "      <th>Date</th>\n",
       "      <th>Latitude</th>\n",
       "      <th>Longitude</th>\n",
       "      <th>Type</th>\n",
       "      <th>Depth</th>\n",
       "      <th>Magnitude</th>\n",
       "      <th>Magnitude Type</th>\n",
       "      <th>ID</th>\n",
       "      <th>Year</th>\n",
       "    </tr>\n",
       "  </thead>\n",
       "  <tbody>\n",
       "    <tr>\n",
       "      <th>0</th>\n",
       "      <td>01-02-1965</td>\n",
       "      <td>19.246</td>\n",
       "      <td>145.616</td>\n",
       "      <td>Earthquake</td>\n",
       "      <td>131.6</td>\n",
       "      <td>6.0</td>\n",
       "      <td>5</td>\n",
       "      <td>ISCGEM860706</td>\n",
       "      <td>1965.0</td>\n",
       "    </tr>\n",
       "    <tr>\n",
       "      <th>1</th>\n",
       "      <td>01-04-1965</td>\n",
       "      <td>1.863</td>\n",
       "      <td>127.352</td>\n",
       "      <td>Earthquake</td>\n",
       "      <td>80.0</td>\n",
       "      <td>5.8</td>\n",
       "      <td>5</td>\n",
       "      <td>ISCGEM860737</td>\n",
       "      <td>1965.0</td>\n",
       "    </tr>\n",
       "    <tr>\n",
       "      <th>2</th>\n",
       "      <td>01-05-1965</td>\n",
       "      <td>-20.579</td>\n",
       "      <td>-173.972</td>\n",
       "      <td>Earthquake</td>\n",
       "      <td>20.0</td>\n",
       "      <td>6.2</td>\n",
       "      <td>5</td>\n",
       "      <td>ISCGEM860762</td>\n",
       "      <td>1965.0</td>\n",
       "    </tr>\n",
       "    <tr>\n",
       "      <th>3</th>\n",
       "      <td>01-08-1965</td>\n",
       "      <td>-59.076</td>\n",
       "      <td>-23.557</td>\n",
       "      <td>Earthquake</td>\n",
       "      <td>15.0</td>\n",
       "      <td>5.8</td>\n",
       "      <td>5</td>\n",
       "      <td>ISCGEM860856</td>\n",
       "      <td>1965.0</td>\n",
       "    </tr>\n",
       "    <tr>\n",
       "      <th>4</th>\n",
       "      <td>01-09-1965</td>\n",
       "      <td>11.938</td>\n",
       "      <td>126.427</td>\n",
       "      <td>Earthquake</td>\n",
       "      <td>15.0</td>\n",
       "      <td>5.8</td>\n",
       "      <td>5</td>\n",
       "      <td>ISCGEM860890</td>\n",
       "      <td>1965.0</td>\n",
       "    </tr>\n",
       "  </tbody>\n",
       "</table>\n",
       "</div>"
      ],
      "text/plain": [
       "         Date  Latitude  Longitude        Type  Depth  Magnitude  \\\n",
       "0  01-02-1965    19.246    145.616  Earthquake  131.6        6.0   \n",
       "1  01-04-1965     1.863    127.352  Earthquake   80.0        5.8   \n",
       "2  01-05-1965   -20.579   -173.972  Earthquake   20.0        6.2   \n",
       "3  01-08-1965   -59.076    -23.557  Earthquake   15.0        5.8   \n",
       "4  01-09-1965    11.938    126.427  Earthquake   15.0        5.8   \n",
       "\n",
       "   Magnitude Type            ID    Year  \n",
       "0               5  ISCGEM860706  1965.0  \n",
       "1               5  ISCGEM860737  1965.0  \n",
       "2               5  ISCGEM860762  1965.0  \n",
       "3               5  ISCGEM860856  1965.0  \n",
       "4               5  ISCGEM860890  1965.0  "
      ]
     },
     "execution_count": 9,
     "metadata": {},
     "output_type": "execute_result"
    }
   ],
   "source": [
    "# Normalizing Data\n",
    "from sklearn.preprocessing import LabelEncoder\n",
    "\n",
    "l1 = LabelEncoder()\n",
    "\n",
    "l1.fit(df['Magnitude Type'])\n",
    "\n",
    "df[['Magnitude Type']] = l1.transform(df[['Magnitude Type']].values.ravel())\n",
    "\n",
    "df.head()"
   ]
  },
  {
   "cell_type": "code",
   "execution_count": 10,
   "id": "093e480a",
   "metadata": {},
   "outputs": [
    {
     "name": "stdout",
     "output_type": "stream",
     "text": [
      "           Latitude     Longitude         Depth     Magnitude  Magnitude Type  \\\n",
      "count  23403.000000  23403.000000  23403.000000  23403.000000    23403.000000   \n",
      "mean       1.669936     39.658820     70.780060      5.882352        5.047173   \n",
      "std       30.112914    125.511614    122.668416      0.422836        2.558753   \n",
      "min      -77.080000   -179.997000     -1.100000      5.500000        0.000000   \n",
      "25%      -18.661000    -76.314650     14.565000      5.600000        5.000000   \n",
      "50%       -3.579000    104.008000     33.000000      5.700000        5.000000   \n",
      "75%       26.143000    145.037000     54.000000      6.000000        7.000000   \n",
      "max       86.005000    179.998000    700.000000      9.100000        9.000000   \n",
      "\n",
      "               Year  \n",
      "count  23403.000000  \n",
      "mean    1992.661454  \n",
      "std       14.426087  \n",
      "min     1965.000000  \n",
      "25%     1981.000000  \n",
      "50%     1993.000000  \n",
      "75%     2005.000000  \n",
      "max     2016.000000  \n"
     ]
    }
   ],
   "source": [
    "print(df.describe())"
   ]
  },
  {
   "cell_type": "code",
   "execution_count": 11,
   "id": "1a7990d2",
   "metadata": {},
   "outputs": [],
   "source": [
    "data=spark.createDataFrame(df)\n",
    "data=data.withColumn('Year',data['Year'].cast(IntegerType()))"
   ]
  },
  {
   "cell_type": "code",
   "execution_count": 12,
   "id": "cf6f6761",
   "metadata": {},
   "outputs": [
    {
     "data": {
      "text/plain": [
       "Date               object\n",
       "Latitude          float64\n",
       "Longitude         float64\n",
       "Type               object\n",
       "Depth             float64\n",
       "Magnitude         float64\n",
       "Magnitude Type      int64\n",
       "ID                 object\n",
       "Year                int32\n",
       "dtype: object"
      ]
     },
     "execution_count": 12,
     "metadata": {},
     "output_type": "execute_result"
    }
   ],
   "source": [
    "df=data.toPandas()\n",
    "df.dtypes\n"
   ]
  },
  {
   "cell_type": "code",
   "execution_count": 13,
   "id": "bf16205e",
   "metadata": {},
   "outputs": [
    {
     "name": "stdout",
     "output_type": "stream",
     "text": [
      "(23403, 9)\n"
     ]
    }
   ],
   "source": [
    "print(df.shape)"
   ]
  },
  {
   "cell_type": "code",
   "execution_count": 14,
   "id": "9e9c545a",
   "metadata": {},
   "outputs": [
    {
     "name": "stdout",
     "output_type": "stream",
     "text": [
      "Total number of rows : 23403\n"
     ]
    }
   ],
   "source": [
    "print(\"Total number of rows :\",len(df))"
   ]
  },
  {
   "cell_type": "markdown",
   "id": "a2df08b4",
   "metadata": {},
   "source": [
    "\n",
    "# Random Forest Regressor "
   ]
  },
  {
   "cell_type": "code",
   "execution_count": 15,
   "id": "af3207e5",
   "metadata": {
    "scrolled": false
   },
   "outputs": [
    {
     "name": "stdout",
     "output_type": "stream",
     "text": [
      "+--------------------+--------+---------+------+---+\n",
      "|                time|latitude|longitude| depth|mag|\n",
      "+--------------------+--------+---------+------+---+\n",
      "|2017-01-02T00:13:...|-36.0365|  51.9288|    10|5.7|\n",
      "|2017-01-02T13:13:...|  -4.895| -76.3675|   106|5.9|\n",
      "|2017-01-02T13:14:...|-23.2513| 179.2383|551.62|6.3|\n",
      "|2017-01-03T09:09:...| 24.0151|  92.0177|    32|5.7|\n",
      "|2017-01-03T21:19:...|-43.3527| -74.5017| 10.26|5.5|\n",
      "+--------------------+--------+---------+------+---+\n",
      "only showing top 5 rows\n",
      "\n"
     ]
    }
   ],
   "source": [
    "#Extracting Test Set\n",
    "df_test=spark.read.csv('files\\quake_test.csv',header=True)\n",
    "df_test=df_test['time','latitude','longitude','depth','mag']\n",
    "df_test.show(5)"
   ]
  },
  {
   "cell_type": "code",
   "execution_count": 16,
   "id": "05f85caf",
   "metadata": {},
   "outputs": [
    {
     "name": "stdout",
     "output_type": "stream",
     "text": [
      "+--------------------+--------+---------+------+---------+\n",
      "|                Date|Latitude|Longitude| Depth|Magnitude|\n",
      "+--------------------+--------+---------+------+---------+\n",
      "|2017-01-02T00:13:...|-36.0365|  51.9288|    10|      5.7|\n",
      "|2017-01-02T13:13:...|  -4.895| -76.3675|   106|      5.9|\n",
      "|2017-01-02T13:14:...|-23.2513| 179.2383|551.62|      6.3|\n",
      "|2017-01-03T09:09:...| 24.0151|  92.0177|    32|      5.7|\n",
      "|2017-01-03T21:19:...|-43.3527| -74.5017| 10.26|      5.5|\n",
      "+--------------------+--------+---------+------+---------+\n",
      "only showing top 5 rows\n",
      "\n"
     ]
    }
   ],
   "source": [
    "# Rename fields/Attributes\n",
    "\n",
    "df_test = df_test.withColumnRenamed('time', 'Date')\\\n",
    ".withColumnRenamed('latitude', 'Latitude')\\\n",
    ".withColumnRenamed('longitude', 'Longitude')\\\n",
    ".withColumnRenamed('mag', 'Magnitude') \\\n",
    ".withColumnRenamed('depth', 'Depth')\n",
    "\n",
    "# Preview df_test_clean\n",
    "\n",
    "df_test.show(5)"
   ]
  },
  {
   "cell_type": "code",
   "execution_count": 17,
   "id": "104db105",
   "metadata": {},
   "outputs": [
    {
     "name": "stdout",
     "output_type": "stream",
     "text": [
      "root\n",
      " |-- Date: string (nullable = true)\n",
      " |-- Latitude: double (nullable = true)\n",
      " |-- Longitude: double (nullable = true)\n",
      " |-- Depth: double (nullable = true)\n",
      " |-- Magnitude: double (nullable = true)\n",
      "\n"
     ]
    }
   ],
   "source": [
    "#Cast some string fields into numeric fields\n",
    "\n",
    "df_test = df_test.withColumn('Latitude', df_test['Latitude'].cast(DoubleType()))\\\n",
    "    .withColumn('Depth', df_test['Depth'].cast(DoubleType()))\\\n",
    "    .withColumn('Longitude',df_test['Longitude'].cast(DoubleType()))\\\n",
    "    .withColumn('Magnitude', df_test[ 'Magnitude'].cast(DoubleType()))\n",
    "df_test.printSchema()"
   ]
  },
  {
   "cell_type": "code",
   "execution_count": 18,
   "id": "b952f106",
   "metadata": {},
   "outputs": [
    {
     "data": {
      "text/plain": [
       "DataFrame[Latitude: double, Longitude: double, Depth: double, Magnitude: double]"
      ]
     },
     "execution_count": 18,
     "metadata": {},
     "output_type": "execute_result"
    }
   ],
   "source": [
    "# Splitting train and test set\n",
    "df_train=data['Latitude','Longitude','Depth','Magnitude']\n",
    "df_test=df_test['Latitude','Longitude','Depth','Magnitude']\n",
    "df_train.dropna()\n",
    "df_test.dropna()\n"
   ]
  },
  {
   "cell_type": "code",
   "execution_count": 19,
   "id": "ff8f1939",
   "metadata": {},
   "outputs": [],
   "source": [
    "from pyspark.ml import Pipeline\n",
    "from pyspark.ml.regression import RandomForestRegressor\n",
    "from pyspark.ml.feature import VectorAssembler\n",
    "from pyspark.ml.evaluation import RegressionEvaluator\n",
    "\n",
    "assembler = VectorAssembler(inputCols=['Latitude', 'Longitude', 'Depth'], outputCol='features')\n",
    "\n",
    "# Create the model\n",
    "\n",
    "model_reg=RandomForestRegressor(featuresCol='features', labelCol='Magnitude')\n",
    "\n",
    "# Chain the assembler with the model in a pipeline \n",
    "pipeline=Pipeline(stages=[assembler, model_reg])\n",
    "\n",
    "# Train the Model\n",
    "model=pipeline.fit(df_train)\n",
    "\n",
    "# Make the prediction\n",
    "pred_results_RF = model.transform(df_test)"
   ]
  },
  {
   "cell_type": "code",
   "execution_count": 20,
   "id": "8e22a0c9",
   "metadata": {
    "scrolled": true
   },
   "outputs": [],
   "source": [
    "df_test_rf=df_test.toPandas()\n",
    "pred_results_RFR=pred_results_RF.toPandas()\n",
    "result = pd.concat([df_test_rf[['Magnitude']].reset_index(drop='True'),pred_results_RFR[['prediction']].reset_index(drop='True')],axis=1)\n",
    "for i in result.columns:\n",
    "    result[i] = result[i].round(decimals = 0)"
   ]
  },
  {
   "cell_type": "code",
   "execution_count": 21,
   "id": "2e031403",
   "metadata": {},
   "outputs": [
    {
     "name": "stdout",
     "output_type": "stream",
     "text": [
      "Accuracy of Random Forest: 0.9345088161209067\n",
      "Absolute error 0.07304785894206549\n",
      "Root Mean Squared Error (RMSE)  = 0.401514\n"
     ]
    }
   ],
   "source": [
    "# Evaluate the model \n",
    "# RMSE should be less than 0.5 for the model to be useful \n",
    "evaluator = RegressionEvaluator(labelCol='Magnitude', predictionCol='prediction', metricName='rmse') \n",
    "rmse=evaluator.evaluate(pred_results_RF) \n",
    "accuracy_rf=metrics.accuracy_score(result[['Magnitude']], result[['prediction']])\n",
    "print(\"Accuracy of Random Forest:\",accuracy_rf)\n",
    "print(\"Absolute error\",metrics.mean_absolute_error(result[['Magnitude']], result[['prediction']]))\n",
    "print('Root Mean Squared Error (RMSE)  = %g' % rmse)"
   ]
  },
  {
   "cell_type": "code",
   "execution_count": 22,
   "id": "8e7c5e06",
   "metadata": {},
   "outputs": [],
   "source": [
    "#Seperating X and y\n",
    "X=df[['Year','Latitude','Longitude','Depth']]\n",
    "y=df[['Magnitude']]"
   ]
  },
  {
   "cell_type": "code",
   "execution_count": 23,
   "id": "e7e1dcbe",
   "metadata": {},
   "outputs": [],
   "source": [
    "# Splitting the dataset\n",
    "X_train, X_test, y_train, y_test = train_test_split(X, y, test_size = 0.3, random_state = 0)"
   ]
  },
  {
   "cell_type": "markdown",
   "id": "de8f6c18",
   "metadata": {},
   "source": [
    "# Support Vector Machine"
   ]
  },
  {
   "cell_type": "code",
   "execution_count": 24,
   "id": "590a6872",
   "metadata": {},
   "outputs": [],
   "source": [
    "y_train_svm= y_train[['Magnitude']]*10\n",
    "y_test_svm= y_test[['Magnitude']]*10"
   ]
  },
  {
   "cell_type": "code",
   "execution_count": 25,
   "id": "5355d6d8",
   "metadata": {},
   "outputs": [],
   "source": [
    "# Implementing SVM\n",
    "\n",
    "# from sklearn.svm import SVR\n",
    "# regressor = SVR(kernel = 'rbf')\n",
    "# regressor.fit(X_train, y_train_svm.values.ravel())\n",
    "# joblib.dump(regressor,'joblibs\\svmModel.joblib')\n",
    "# y_pred_svm=regressor.predict(X_test)\n",
    "\n",
    "\n",
    "import joblib\n",
    "\n",
    "regressor=joblib.load('joblibs\\svmModel.joblib')\n",
    "\n",
    "y_pred_svm=regressor.predict(X_test)\n"
   ]
  },
  {
   "cell_type": "code",
   "execution_count": 26,
   "id": "abf87a00",
   "metadata": {},
   "outputs": [],
   "source": [
    "y_pred_svm=pd.DataFrame(y_pred_svm)\n",
    "result=y_test_svm['Magnitude']/10\n",
    "y_pred_svm.columns=[\"Predicted values\"]\n",
    "y_pred_svm/=10\n",
    "result = pd.concat([result.reset_index(drop='True'),y_pred_svm.reset_index(drop='True')],axis=1)\n",
    "for i in result.columns:\n",
    "    result[i] = result[i].round(decimals = 0)"
   ]
  },
  {
   "cell_type": "code",
   "execution_count": 27,
   "id": "21137a67",
   "metadata": {},
   "outputs": [
    {
     "name": "stdout",
     "output_type": "stream",
     "text": [
      "Accuracy for SVM : 0.9193847030337559\n",
      "Absolute error 0.09101267625694345\n",
      "RMSE 0.33522701897599355\n"
     ]
    }
   ],
   "source": [
    "#Model Validations\n",
    "accuracy_svm=metrics.accuracy_score(result[['Magnitude']], result[['Predicted values']])\n",
    "print(\"Accuracy for SVM :\",accuracy_svm)\n",
    "print(\"Absolute error\",metrics.mean_absolute_error(result[['Magnitude']], result[['Predicted values']]))\n",
    "print(\"RMSE\",math.sqrt(metrics.mean_squared_error(result[['Magnitude']], result[['Predicted values']])))"
   ]
  },
  {
   "cell_type": "code",
   "execution_count": null,
   "id": "3adbb987",
   "metadata": {},
   "outputs": [],
   "source": []
  },
  {
   "cell_type": "markdown",
   "id": "7859739a",
   "metadata": {},
   "source": [
    "# Decision Tree"
   ]
  },
  {
   "cell_type": "code",
   "execution_count": 28,
   "id": "48832989",
   "metadata": {},
   "outputs": [],
   "source": [
    "# Implementing Decision Tree\n",
    "\n",
    "from sklearn.tree import DecisionTreeRegressor\n",
    "from sklearn import tree\n",
    "\n",
    "dtr=DecisionTreeRegressor(random_state=0)\n",
    "\n",
    "dtr.fit(X_train,y_train)\n",
    "joblib.dump(dtr,'joblibs\\dtModel.joblib')\n",
    "y_pred_dc=dtr.predict(X_test)\n"
   ]
  },
  {
   "cell_type": "code",
   "execution_count": 29,
   "id": "60425979",
   "metadata": {},
   "outputs": [],
   "source": [
    "y_pred_dcr=pd.DataFrame(y_pred_dc)\n",
    "result=y_test['Magnitude']\n",
    "y_pred_dcr.columns=[\"Predicted values\"]\n",
    "result = pd.concat([result.reset_index(drop='True'),y_pred_dcr.reset_index(drop='True')],axis=1)\n",
    "for i in result.columns:\n",
    "    result[i] = result[i].round(decimals = 0)"
   ]
  },
  {
   "cell_type": "code",
   "execution_count": 30,
   "id": "8b154b4d",
   "metadata": {},
   "outputs": [
    {
     "name": "stdout",
     "output_type": "stream",
     "text": [
      "Accuracy for Decision Tree: 0.8508759435977781\n",
      "Absolute error 0.1674975074775673\n",
      "RMSE : 0.45319294837258456\n"
     ]
    }
   ],
   "source": [
    "#Model Validations\n",
    "accuracy_dc=metrics.accuracy_score(result[['Magnitude']], result[['Predicted values']])\n",
    "print(\"Accuracy for Decision Tree:\",accuracy_dc)\n",
    "print(\"Absolute error\",metrics.mean_absolute_error(result[['Magnitude']], result[['Predicted values']]))\n",
    "print(\"RMSE :\",math.sqrt(metrics.mean_squared_error(result[['Magnitude']], result[['Predicted values']])))\n"
   ]
  },
  {
   "cell_type": "markdown",
   "id": "f60df24d",
   "metadata": {},
   "source": [
    "# K-Nearest Neighbour"
   ]
  },
  {
   "cell_type": "code",
   "execution_count": 31,
   "id": "fd19099d",
   "metadata": {},
   "outputs": [],
   "source": [
    "# K Nearest Neighbors Regression\n",
    "class KNN_Regressor() : \n",
    "    def __init__( self, K ) :\n",
    "        self.K = K\n",
    "    # Function to calculate euclidean distance   \n",
    "    def euclidean( self, x, x_train ) :\n",
    "        return np.sqrt(np.sum(np.square(x -x_train)))\n",
    "        \n",
    "    # Function for prediction  \n",
    "    def prediction(self, X_test) :\n",
    "        self.X_test = X_test\n",
    "          \n",
    "        # no_of_test_records, no_of_attributes\n",
    "        self.row_test, self.col = X_test.shape\n",
    "        Y_predict = np.zeros(self.row_test)\n",
    "        for i in range( self.row_test ) : \n",
    "            x = self.X_test[i] \n",
    "            # find the K nearest neighbors for current data point \n",
    "            neighbors = np.zeros(self.K)\n",
    "            neighbors = self.find_neighbors(x) \n",
    "            # calculate the mean of K nearest neighbors \n",
    "            Y_predict[i] = np.mean(neighbors)\n",
    "        return Y_predict\n",
    "    \n",
    "    # Function to store X_train and Y_train      \n",
    "    def store(self,X_train,Y_train ) :\n",
    "        self.X_train = X_train\n",
    "        self.Y_train = Y_train\n",
    "        \n",
    "        # no_of_training_records, no_of_attributes  \n",
    "        self.row, self.col = X_train.shape\n",
    "      \n",
    "  \n",
    "    \n",
    "     # Function to find the K nearest neighbors\n",
    "    def find_neighbors(self, x) :\n",
    "        # calculate all the euclidean distances between current test\n",
    "        euclidean_distances = np.zeros( self.row )\n",
    "        for i in range( self.row ) :\n",
    "            d = self.euclidean( x, self.X_train[i] )\n",
    "            euclidean_distances[i] = d\n",
    "          \n",
    "        # sort Y_train according to euclidean_distance_array and \n",
    "        sorted_distance = euclidean_distances.argsort()\n",
    "        Y_train_sorted = self.Y_train[sorted_distance]\n",
    "        return Y_train_sorted[:self.K]\n"
   ]
  },
  {
   "cell_type": "code",
   "execution_count": 32,
   "id": "6ce18d90",
   "metadata": {},
   "outputs": [
    {
     "name": "stdout",
     "output_type": "stream",
     "text": [
      "Accuracy for KNN: 0.9183438020766569\n",
      "Absolute error 0.09203948211767722\n",
      "RMSE : 0.33662858654810374\n"
     ]
    }
   ],
   "source": [
    "def main(): \n",
    "# Importing dataset      \n",
    "    df=joblib.load('joblibs\\df.joblib')\n",
    "    X=df[['Year','Latitude','Longitude','Depth']].values\n",
    "    Y=df[['Magnitude']].values\n",
    "    \n",
    "# Splitting dataset into train and test set\n",
    "    X_train, X_test, Y_train, Y_test = train_test_split(X, Y, test_size = 1/3, random_state = 0 )\n",
    "          \n",
    "# Model training\n",
    "    model = KNN_Regressor( K = 9 )\n",
    "    model.store( X_train, Y_train )\n",
    "\n",
    "#  Prediction on test set\n",
    "    Y_pred = model.prediction( X_test )\n",
    "\n",
    "#Predcition Results\n",
    "    Y_pred_knn=pd.DataFrame(Y_pred)\n",
    "    Y_pred_knn.columns=[\"Predicted values\"]\n",
    "    Y_test_knn=pd.DataFrame(Y_test)\n",
    "    Y_test_knn.columns=['Magnitude']\n",
    "    result=Y_test_knn['Magnitude']\n",
    "    result = pd.concat([result.reset_index(drop='True'),Y_pred_knn.reset_index(drop='True')],axis=1)\n",
    "    \n",
    "    \n",
    "    for i in result.columns:\n",
    "        result[i] = result[i].round(decimals = 0)\n",
    "    accuracy_knn=metrics.accuracy_score(result[['Magnitude']], result[['Predicted values']])\n",
    "    \n",
    "    print(\"Accuracy for KNN:\",accuracy_knn)\n",
    "    print(\"Absolute error\",metrics.mean_absolute_error(result[['Magnitude']], result[['Predicted values']]))\n",
    "    print(\"RMSE :\",math.sqrt(metrics.mean_squared_error(result[['Magnitude']], result[['Predicted values']])))\n",
    "if __name__ == \"__main__\" :   \n",
    "    main()"
   ]
  },
  {
   "cell_type": "markdown",
   "id": "cdf8574c",
   "metadata": {},
   "source": [
    "# Building Accuracy Graph"
   ]
  },
  {
   "cell_type": "code",
   "execution_count": 33,
   "id": "2ae1efa9",
   "metadata": {},
   "outputs": [
    {
     "data": {
      "image/png": "[encoded data removed]",
      "text/plain": [
       "<Figure size 432x432 with 1 Axes>"
      ]
     },
     "metadata": {
      "needs_background": "light"
     },
     "output_type": "display_data"
    }
   ],
   "source": [
    "# Building Accuracy Graph\n",
    "acc_dc=(accuracy_dc*100).round(decimals=2)\n",
    "acc_rf=(accuracy_rf*100).round(decimals=2)\n",
    "acc_svm=(accuracy_svm*100).round(decimals=2)\n",
    "acc_knn=np.float64(91.83)\n",
    "data = pd.DataFrame({'alg':['Random Forest','SVM','Decision Tree','KNN'],'per': [acc_rf,acc_svm,acc_dc,acc_knn]})\n",
    "percentage = [acc_rf,acc_svm,acc_dc,acc_knn]\n",
    "data['Percentage'] = percentage\n",
    "plt.figure(figsize=(6,6))\n",
    "colors_list = ['red','blue','green','yellow']\n",
    "graph = plt.bar(data.alg,data.per ,color = colors_list)\n",
    "plt.title('Percentage of Accuracy Predicted By Algorithms ')\n",
    "i = 0\n",
    "for p in graph:\n",
    "    width = p.get_width()\n",
    "    height = p.get_height()\n",
    "    x, y = p.get_xy()\n",
    "    plt.text(x+width/2,\n",
    "            y+height*1.01,\n",
    "            str(data.Percentage[i])+'%',\n",
    "            ha='center',\n",
    "            weight='bold')\n",
    "    i+=1\n",
    "plt.ylim(0,100)\n",
    "plt.xlabel('Algorithms')\n",
    "plt.ylabel('Accuracy')\n",
    "plt.show()"
   ]
  },
  {
   "cell_type": "code",
   "execution_count": null,
   "id": "bce33cb4",
   "metadata": {},
   "outputs": [],
   "source": []
  }
 ],
 "metadata": {
  "interpreter": {
   "hash": "76159a2336a29d199c31b03e0d17601fdc1443ecbd779d8da31794cdb861908c"
  },
  "kernelspec": {
   "display_name": "Python 3",
   "language": "python",
   "name": "python3"
  },
  "language_info": {
   "codemirror_mode": {
    "name": "ipython",
    "version": 3
   },
   "file_extension": ".py",
   "mimetype": "text/x-python",
   "name": "python",
   "nbconvert_exporter": "python",
   "pygments_lexer": "ipython3",
   "version": "3.8.8"
  }
 },
 "nbformat": 4,
 "nbformat_minor": 5
}
